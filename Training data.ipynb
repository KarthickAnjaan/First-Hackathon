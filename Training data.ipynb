{
 "cells": [
  {
   "cell_type": "markdown",
   "id": "4453d677",
   "metadata": {},
   "source": [
    "# Problem understanding :\n",
    "    Patient have disease before so based on previous patient records we have to predict if the patient readmitted to \n",
    "    the hospital or not"
   ]
  },
  {
   "cell_type": "code",
   "execution_count": 1,
   "id": "faf65fbb",
   "metadata": {},
   "outputs": [],
   "source": [
    "import pandas as pd\n",
    "import matplotlib.pyplot as plt\n",
    "import numpy as np"
   ]
  },
  {
   "cell_type": "code",
   "execution_count": 2,
   "id": "7b8414a0",
   "metadata": {},
   "outputs": [],
   "source": [
    "df=pd.read_csv(\"Train-1617360447408-1660719685476.csv\")"
   ]
  },
  {
   "cell_type": "code",
   "execution_count": 3,
   "id": "3c4d2117",
   "metadata": {},
   "outputs": [
    {
     "data": {
      "text/plain": [
       "(66587, 49)"
      ]
     },
     "execution_count": 3,
     "metadata": {},
     "output_type": "execute_result"
    }
   ],
   "source": [
    "df.shape"
   ]
  },
  {
   "cell_type": "code",
   "execution_count": 1,
   "id": "42cdfd63",
   "metadata": {
    "scrolled": true
   },
   "outputs": [
    {
     "ename": "NameError",
     "evalue": "name 'df' is not defined",
     "output_type": "error",
     "traceback": [
      "\u001b[1;31m---------------------------------------------------------------------------\u001b[0m",
      "\u001b[1;31mNameError\u001b[0m                                 Traceback (most recent call last)",
      "Input \u001b[1;32mIn [1]\u001b[0m, in \u001b[0;36m<cell line: 1>\u001b[1;34m()\u001b[0m\n\u001b[1;32m----> 1\u001b[0m \u001b[43mdf\u001b[49m\u001b[38;5;241m.\u001b[39mhead()\n",
      "\u001b[1;31mNameError\u001b[0m: name 'df' is not defined"
     ]
    }
   ],
   "source": [
    "df.head()"
   ]
  },
  {
   "cell_type": "code",
   "execution_count": 5,
   "id": "89af5a69",
   "metadata": {},
   "outputs": [
    {
     "data": {
      "text/plain": [
       "17676"
      ]
     },
     "execution_count": 5,
     "metadata": {},
     "output_type": "execute_result"
    }
   ],
   "source": [
    "df.duplicated().sum()"
   ]
  },
  {
   "cell_type": "code",
   "execution_count": 6,
   "id": "9b1e51c5",
   "metadata": {},
   "outputs": [],
   "source": [
    "df=df.drop_duplicates()"
   ]
  },
  {
   "cell_type": "code",
   "execution_count": 7,
   "id": "5acda97d",
   "metadata": {},
   "outputs": [
    {
     "data": {
      "text/plain": [
       "(48911, 49)"
      ]
     },
     "execution_count": 7,
     "metadata": {},
     "output_type": "execute_result"
    }
   ],
   "source": [
    "df.shape"
   ]
  },
  {
   "cell_type": "code",
   "execution_count": 1118,
   "id": "240a80b6",
   "metadata": {
    "scrolled": true
   },
   "outputs": [
    {
     "data": {
      "text/plain": [
       "index                 0\n",
       "encounter_id          0\n",
       "patient_id            0\n",
       "race                  0\n",
       "gender                0\n",
       "age                   0\n",
       "weight                0\n",
       "time_in_hospital      0\n",
       "medical_specialty     0\n",
       "num_lab_procedures    0\n",
       "num_procedures        0\n",
       "num_medications       0\n",
       "number_outpatient     0\n",
       "number_emergency      0\n",
       "number_inpatient      0\n",
       "diag_1                0\n",
       "diag_2                0\n",
       "diag_3                0\n",
       "diag_4                0\n",
       "diag_5                0\n",
       "number_diagnoses      0\n",
       "X1                    0\n",
       "X2                    0\n",
       "X3                    0\n",
       "X4                    0\n",
       "X5                    0\n",
       "X6                    0\n",
       "X7                    0\n",
       "X8                    0\n",
       "X9                    0\n",
       "X10                   0\n",
       "X11                   0\n",
       "X12                   0\n",
       "X13                   0\n",
       "X14                   0\n",
       "X15                   0\n",
       "X16                   0\n",
       "X17                   0\n",
       "X18                   0\n",
       "X19                   0\n",
       "X20                   0\n",
       "X21                   0\n",
       "X22                   0\n",
       "X23                   0\n",
       "X24                   0\n",
       "X25                   0\n",
       "change                0\n",
       "diabetesMed           0\n",
       "readmitted            0\n",
       "dtype: int64"
      ]
     },
     "execution_count": 1118,
     "metadata": {},
     "output_type": "execute_result"
    }
   ],
   "source": [
    "df.isnull().sum()"
   ]
  },
  {
   "cell_type": "code",
   "execution_count": 1119,
   "id": "074fc99d",
   "metadata": {},
   "outputs": [
    {
     "name": "stdout",
     "output_type": "stream",
     "text": [
      "<class 'pandas.core.frame.DataFrame'>\n",
      "RangeIndex: 66587 entries, 0 to 66586\n",
      "Data columns (total 49 columns):\n",
      " #   Column              Non-Null Count  Dtype  \n",
      "---  ------              --------------  -----  \n",
      " 0   index               66587 non-null  int64  \n",
      " 1   encounter_id        66587 non-null  int64  \n",
      " 2   patient_id          66587 non-null  int64  \n",
      " 3   race                66587 non-null  object \n",
      " 4   gender              66587 non-null  object \n",
      " 5   age                 66587 non-null  object \n",
      " 6   weight              66587 non-null  object \n",
      " 7   time_in_hospital    66587 non-null  int64  \n",
      " 8   medical_specialty   66587 non-null  object \n",
      " 9   num_lab_procedures  66587 non-null  int64  \n",
      " 10  num_procedures      66587 non-null  int64  \n",
      " 11  num_medications     66587 non-null  int64  \n",
      " 12  number_outpatient   66587 non-null  int64  \n",
      " 13  number_emergency    66587 non-null  int64  \n",
      " 14  number_inpatient    66587 non-null  int64  \n",
      " 15  diag_1              66587 non-null  object \n",
      " 16  diag_2              66587 non-null  object \n",
      " 17  diag_3              66587 non-null  object \n",
      " 18  diag_4              66587 non-null  object \n",
      " 19  diag_5              66587 non-null  float64\n",
      " 20  number_diagnoses    66587 non-null  int64  \n",
      " 21  X1                  66587 non-null  object \n",
      " 22  X2                  66587 non-null  object \n",
      " 23  X3                  66587 non-null  object \n",
      " 24  X4                  66587 non-null  object \n",
      " 25  X5                  66587 non-null  object \n",
      " 26  X6                  66587 non-null  object \n",
      " 27  X7                  66587 non-null  object \n",
      " 28  X8                  66587 non-null  object \n",
      " 29  X9                  66587 non-null  object \n",
      " 30  X10                 66587 non-null  object \n",
      " 31  X11                 66587 non-null  object \n",
      " 32  X12                 66587 non-null  object \n",
      " 33  X13                 66587 non-null  object \n",
      " 34  X14                 66587 non-null  object \n",
      " 35  X15                 66587 non-null  object \n",
      " 36  X16                 66587 non-null  object \n",
      " 37  X17                 66587 non-null  object \n",
      " 38  X18                 66587 non-null  object \n",
      " 39  X19                 66587 non-null  object \n",
      " 40  X20                 66587 non-null  object \n",
      " 41  X21                 66587 non-null  object \n",
      " 42  X22                 66587 non-null  object \n",
      " 43  X23                 66587 non-null  object \n",
      " 44  X24                 66587 non-null  object \n",
      " 45  X25                 66587 non-null  object \n",
      " 46  change              66587 non-null  object \n",
      " 47  diabetesMed         66587 non-null  object \n",
      " 48  readmitted          66587 non-null  int64  \n",
      "dtypes: float64(1), int64(12), object(36)\n",
      "memory usage: 24.9+ MB\n"
     ]
    }
   ],
   "source": [
    "df.info()"
   ]
  },
  {
   "cell_type": "code",
   "execution_count": 1120,
   "id": "0607f345",
   "metadata": {},
   "outputs": [],
   "source": [
    "df1=df.drop(['index','encounter_id','patient_id','weight'],axis=1)"
   ]
  },
  {
   "cell_type": "code",
   "execution_count": 1121,
   "id": "e1898310",
   "metadata": {
    "scrolled": true
   },
   "outputs": [
    {
     "data": {
      "text/html": [
       "<div>\n",
       "<style scoped>\n",
       "    .dataframe tbody tr th:only-of-type {\n",
       "        vertical-align: middle;\n",
       "    }\n",
       "\n",
       "    .dataframe tbody tr th {\n",
       "        vertical-align: top;\n",
       "    }\n",
       "\n",
       "    .dataframe thead th {\n",
       "        text-align: right;\n",
       "    }\n",
       "</style>\n",
       "<table border=\"1\" class=\"dataframe\">\n",
       "  <thead>\n",
       "    <tr style=\"text-align: right;\">\n",
       "      <th></th>\n",
       "      <th>race</th>\n",
       "      <th>gender</th>\n",
       "      <th>age</th>\n",
       "      <th>time_in_hospital</th>\n",
       "      <th>medical_specialty</th>\n",
       "      <th>num_lab_procedures</th>\n",
       "      <th>num_procedures</th>\n",
       "      <th>num_medications</th>\n",
       "      <th>number_outpatient</th>\n",
       "      <th>number_emergency</th>\n",
       "      <th>...</th>\n",
       "      <th>X19</th>\n",
       "      <th>X20</th>\n",
       "      <th>X21</th>\n",
       "      <th>X22</th>\n",
       "      <th>X23</th>\n",
       "      <th>X24</th>\n",
       "      <th>X25</th>\n",
       "      <th>change</th>\n",
       "      <th>diabetesMed</th>\n",
       "      <th>readmitted</th>\n",
       "    </tr>\n",
       "  </thead>\n",
       "  <tbody>\n",
       "    <tr>\n",
       "      <th>0</th>\n",
       "      <td>Hispanic</td>\n",
       "      <td>Male</td>\n",
       "      <td>[80-90)</td>\n",
       "      <td>4</td>\n",
       "      <td>Emergency/Trauma</td>\n",
       "      <td>39</td>\n",
       "      <td>1</td>\n",
       "      <td>9</td>\n",
       "      <td>1</td>\n",
       "      <td>1</td>\n",
       "      <td>...</td>\n",
       "      <td>No</td>\n",
       "      <td>No</td>\n",
       "      <td>No</td>\n",
       "      <td>No</td>\n",
       "      <td>No</td>\n",
       "      <td>No</td>\n",
       "      <td>No</td>\n",
       "      <td>No</td>\n",
       "      <td>Yes</td>\n",
       "      <td>1</td>\n",
       "    </tr>\n",
       "    <tr>\n",
       "      <th>1</th>\n",
       "      <td>Caucasian</td>\n",
       "      <td>Male</td>\n",
       "      <td>[60-70)</td>\n",
       "      <td>3</td>\n",
       "      <td>Emergency/Trauma</td>\n",
       "      <td>34</td>\n",
       "      <td>1</td>\n",
       "      <td>12</td>\n",
       "      <td>0</td>\n",
       "      <td>0</td>\n",
       "      <td>...</td>\n",
       "      <td>No</td>\n",
       "      <td>No</td>\n",
       "      <td>No</td>\n",
       "      <td>No</td>\n",
       "      <td>No</td>\n",
       "      <td>No</td>\n",
       "      <td>No</td>\n",
       "      <td>No</td>\n",
       "      <td>No</td>\n",
       "      <td>0</td>\n",
       "    </tr>\n",
       "    <tr>\n",
       "      <th>2</th>\n",
       "      <td>Caucasian</td>\n",
       "      <td>Female</td>\n",
       "      <td>[50-60)</td>\n",
       "      <td>6</td>\n",
       "      <td>Nephrology</td>\n",
       "      <td>50</td>\n",
       "      <td>2</td>\n",
       "      <td>24</td>\n",
       "      <td>0</td>\n",
       "      <td>0</td>\n",
       "      <td>...</td>\n",
       "      <td>No</td>\n",
       "      <td>Down</td>\n",
       "      <td>No</td>\n",
       "      <td>No</td>\n",
       "      <td>No</td>\n",
       "      <td>No</td>\n",
       "      <td>No</td>\n",
       "      <td>Ch</td>\n",
       "      <td>Yes</td>\n",
       "      <td>1</td>\n",
       "    </tr>\n",
       "    <tr>\n",
       "      <th>3</th>\n",
       "      <td>AfricanAmerican</td>\n",
       "      <td>Female</td>\n",
       "      <td>[70-80)</td>\n",
       "      <td>5</td>\n",
       "      <td>?</td>\n",
       "      <td>63</td>\n",
       "      <td>0</td>\n",
       "      <td>14</td>\n",
       "      <td>0</td>\n",
       "      <td>0</td>\n",
       "      <td>...</td>\n",
       "      <td>No</td>\n",
       "      <td>Down</td>\n",
       "      <td>No</td>\n",
       "      <td>No</td>\n",
       "      <td>No</td>\n",
       "      <td>No</td>\n",
       "      <td>No</td>\n",
       "      <td>Ch</td>\n",
       "      <td>Yes</td>\n",
       "      <td>1</td>\n",
       "    </tr>\n",
       "    <tr>\n",
       "      <th>4</th>\n",
       "      <td>Caucasian</td>\n",
       "      <td>Male</td>\n",
       "      <td>[70-80)</td>\n",
       "      <td>9</td>\n",
       "      <td>Psychiatry</td>\n",
       "      <td>17</td>\n",
       "      <td>1</td>\n",
       "      <td>11</td>\n",
       "      <td>0</td>\n",
       "      <td>0</td>\n",
       "      <td>...</td>\n",
       "      <td>No</td>\n",
       "      <td>No</td>\n",
       "      <td>No</td>\n",
       "      <td>No</td>\n",
       "      <td>No</td>\n",
       "      <td>No</td>\n",
       "      <td>No</td>\n",
       "      <td>No</td>\n",
       "      <td>No</td>\n",
       "      <td>1</td>\n",
       "    </tr>\n",
       "  </tbody>\n",
       "</table>\n",
       "<p>5 rows × 45 columns</p>\n",
       "</div>"
      ],
      "text/plain": [
       "              race  gender      age  time_in_hospital medical_specialty  \\\n",
       "0         Hispanic    Male  [80-90)                 4  Emergency/Trauma   \n",
       "1        Caucasian    Male  [60-70)                 3  Emergency/Trauma   \n",
       "2        Caucasian  Female  [50-60)                 6        Nephrology   \n",
       "3  AfricanAmerican  Female  [70-80)                 5                 ?   \n",
       "4        Caucasian    Male  [70-80)                 9        Psychiatry   \n",
       "\n",
       "   num_lab_procedures  num_procedures  num_medications  number_outpatient  \\\n",
       "0                  39               1                9                  1   \n",
       "1                  34               1               12                  0   \n",
       "2                  50               2               24                  0   \n",
       "3                  63               0               14                  0   \n",
       "4                  17               1               11                  0   \n",
       "\n",
       "   number_emergency  ...  X19   X20 X21 X22 X23  X24  X25 change diabetesMed  \\\n",
       "0                 1  ...   No    No  No  No  No   No   No     No         Yes   \n",
       "1                 0  ...   No    No  No  No  No   No   No     No          No   \n",
       "2                 0  ...   No  Down  No  No  No   No   No     Ch         Yes   \n",
       "3                 0  ...   No  Down  No  No  No   No   No     Ch         Yes   \n",
       "4                 0  ...   No    No  No  No  No   No   No     No          No   \n",
       "\n",
       "  readmitted  \n",
       "0          1  \n",
       "1          0  \n",
       "2          1  \n",
       "3          1  \n",
       "4          1  \n",
       "\n",
       "[5 rows x 45 columns]"
      ]
     },
     "execution_count": 1121,
     "metadata": {},
     "output_type": "execute_result"
    }
   ],
   "source": [
    "df1.head()"
   ]
  },
  {
   "cell_type": "code",
   "execution_count": 1122,
   "id": "0487b092",
   "metadata": {},
   "outputs": [
    {
     "data": {
      "text/plain": [
       "(66587, 45)"
      ]
     },
     "execution_count": 1122,
     "metadata": {},
     "output_type": "execute_result"
    }
   ],
   "source": [
    "df1.shape"
   ]
  },
  {
   "cell_type": "code",
   "execution_count": 1123,
   "id": "029fe180",
   "metadata": {},
   "outputs": [
    {
     "data": {
      "text/plain": [
       "array([[<AxesSubplot:title={'center':'time_in_hospital'}>,\n",
       "        <AxesSubplot:title={'center':'num_lab_procedures'}>,\n",
       "        <AxesSubplot:title={'center':'num_procedures'}>],\n",
       "       [<AxesSubplot:title={'center':'num_medications'}>,\n",
       "        <AxesSubplot:title={'center':'number_outpatient'}>,\n",
       "        <AxesSubplot:title={'center':'number_emergency'}>],\n",
       "       [<AxesSubplot:title={'center':'number_inpatient'}>,\n",
       "        <AxesSubplot:title={'center':'diag_5'}>,\n",
       "        <AxesSubplot:title={'center':'number_diagnoses'}>],\n",
       "       [<AxesSubplot:title={'center':'readmitted'}>, <AxesSubplot:>,\n",
       "        <AxesSubplot:>]], dtype=object)"
      ]
     },
     "execution_count": 1123,
     "metadata": {},
     "output_type": "execute_result"
    },
    {
     "data": {
      "image/png": "[encoded data removed]",
      "text/plain": [
       "<Figure size 432x288 with 12 Axes>"
      ]
     },
     "metadata": {
      "needs_background": "light"
     },
     "output_type": "display_data"
    }
   ],
   "source": [
    "df1.hist()"
   ]
  },
  {
   "cell_type": "code",
   "execution_count": 1124,
   "id": "04634272",
   "metadata": {
    "scrolled": true
   },
   "outputs": [
    {
     "data": {
      "text/plain": [
       "Index(['race', 'gender', 'age', 'time_in_hospital', 'medical_specialty',\n",
       "       'num_lab_procedures', 'num_procedures', 'num_medications',\n",
       "       'number_outpatient', 'number_emergency', 'number_inpatient', 'diag_1',\n",
       "       'diag_2', 'diag_3', 'diag_4', 'diag_5', 'number_diagnoses', 'X1', 'X2',\n",
       "       'X3', 'X4', 'X5', 'X6', 'X7', 'X8', 'X9', 'X10', 'X11', 'X12', 'X13',\n",
       "       'X14', 'X15', 'X16', 'X17', 'X18', 'X19', 'X20', 'X21', 'X22', 'X23',\n",
       "       'X24', 'X25', 'change', 'diabetesMed', 'readmitted'],\n",
       "      dtype='object')"
      ]
     },
     "execution_count": 1124,
     "metadata": {},
     "output_type": "execute_result"
    }
   ],
   "source": [
    "df1.columns"
   ]
  },
  {
   "cell_type": "markdown",
   "id": "bc527793",
   "metadata": {},
   "source": [
    "# Duplicate values"
   ]
  },
  {
   "cell_type": "code",
   "execution_count": 1125,
   "id": "7c2002fa",
   "metadata": {
    "scrolled": true
   },
   "outputs": [
    {
     "data": {
      "text/plain": [
       "17676"
      ]
     },
     "execution_count": 1125,
     "metadata": {},
     "output_type": "execute_result"
    }
   ],
   "source": [
    "df1.duplicated().sum()"
   ]
  },
  {
   "cell_type": "code",
   "execution_count": 1126,
   "id": "9dbf46c9",
   "metadata": {},
   "outputs": [],
   "source": [
    "df1=df1.drop_duplicates()"
   ]
  },
  {
   "cell_type": "code",
   "execution_count": 1127,
   "id": "ed71efb5",
   "metadata": {
    "scrolled": true
   },
   "outputs": [
    {
     "data": {
      "text/plain": [
       "(48911, 45)"
      ]
     },
     "execution_count": 1127,
     "metadata": {},
     "output_type": "execute_result"
    }
   ],
   "source": [
    "df1.shape"
   ]
  },
  {
   "cell_type": "code",
   "execution_count": null,
   "id": "c1580d5f",
   "metadata": {},
   "outputs": [],
   "source": [
    "df1.columns"
   ]
  },
  {
   "cell_type": "code",
   "execution_count": 1128,
   "id": "315705ca",
   "metadata": {},
   "outputs": [],
   "source": [
    "column_names=['race', 'gender', 'age', 'time_in_hospital',\n",
    "       'num_lab_procedures', 'num_procedures', 'num_medications',\n",
    "       'number_outpatient', 'number_emergency', 'number_inpatient', 'diag_1',\n",
    "       'diag_2', 'diag_3', 'diag_4', 'diag_5', 'number_diagnoses', 'X1', 'X2',\n",
    "       'X3', 'X4', 'X5', 'X6', 'X7', 'X8', 'X9', 'X10', 'X11', 'X12', 'X13',\n",
    "       'X14', 'X15', 'X16', 'X17', 'X18', 'X19', 'X20', 'X21', 'X22', 'X23',\n",
    "       'X24', 'X25', 'change', 'diabetesMed']"
   ]
  },
  {
   "cell_type": "markdown",
   "id": "eb2359e8",
   "metadata": {},
   "source": [
    "# Finding number of missing values"
   ]
  },
  {
   "cell_type": "code",
   "execution_count": 1129,
   "id": "c17f5366",
   "metadata": {
    "scrolled": false
   },
   "outputs": [
    {
     "name": "stdout",
     "output_type": "stream",
     "text": [
      "Column name: race No.of ? values: 1114\n",
      "Column name: gender No.of ? values: 0\n",
      "Column name: age No.of ? values: 0\n",
      "Column name: time_in_hospital No.of ? values: 0\n",
      "Column name: num_lab_procedures No.of ? values: 0\n",
      "Column name: num_procedures No.of ? values: 0\n",
      "Column name: num_medications No.of ? values: 0\n",
      "Column name: number_outpatient No.of ? values: 0\n",
      "Column name: number_emergency No.of ? values: 0\n",
      "Column name: number_inpatient No.of ? values: 0\n",
      "Column name: diag_1 No.of ? values: 11\n",
      "Column name: diag_2 No.of ? values: 172\n",
      "Column name: diag_3 No.of ? values: 685\n",
      "Column name: diag_4 No.of ? values: 685\n",
      "Column name: diag_5 No.of ? values: 0\n",
      "Column name: number_diagnoses No.of ? values: 0\n",
      "Column name: X1 No.of ? values: 0\n",
      "Column name: X2 No.of ? values: 0\n",
      "Column name: X3 No.of ? values: 0\n",
      "Column name: X4 No.of ? values: 0\n",
      "Column name: X5 No.of ? values: 0\n",
      "Column name: X6 No.of ? values: 0\n",
      "Column name: X7 No.of ? values: 0\n",
      "Column name: X8 No.of ? values: 0\n",
      "Column name: X9 No.of ? values: 0\n",
      "Column name: X10 No.of ? values: 0\n",
      "Column name: X11 No.of ? values: 0\n",
      "Column name: X12 No.of ? values: 0\n",
      "Column name: X13 No.of ? values: 0\n",
      "Column name: X14 No.of ? values: 0\n",
      "Column name: X15 No.of ? values: 0\n",
      "Column name: X16 No.of ? values: 0\n",
      "Column name: X17 No.of ? values: 0\n",
      "Column name: X18 No.of ? values: 0\n",
      "Column name: X19 No.of ? values: 0\n",
      "Column name: X20 No.of ? values: 0\n",
      "Column name: X21 No.of ? values: 0\n",
      "Column name: X22 No.of ? values: 0\n",
      "Column name: X23 No.of ? values: 0\n",
      "Column name: X24 No.of ? values: 0\n",
      "Column name: X25 No.of ? values: 0\n",
      "Column name: change No.of ? values: 0\n",
      "Column name: diabetesMed No.of ? values: 0\n"
     ]
    }
   ],
   "source": [
    "for c in column_names:\n",
    "    w=df1[df1[c]=='?']\n",
    "    a=w[c].count()\n",
    "    print('Column name:',c,'No.of ? values:',a)"
   ]
  },
  {
   "cell_type": "code",
   "execution_count": 1130,
   "id": "7e81d160",
   "metadata": {},
   "outputs": [],
   "source": [
    "md=df1['race'].mode()[0]"
   ]
  },
  {
   "cell_type": "code",
   "execution_count": 1131,
   "id": "8d847574",
   "metadata": {},
   "outputs": [
    {
     "data": {
      "text/plain": [
       "'Caucasian'"
      ]
     },
     "execution_count": 1131,
     "metadata": {},
     "output_type": "execute_result"
    }
   ],
   "source": [
    "md"
   ]
  },
  {
   "cell_type": "code",
   "execution_count": 1132,
   "id": "7f0174a6",
   "metadata": {},
   "outputs": [],
   "source": [
    "#replace a value\n",
    "df1['race']=df1['race'].mask(df1['race']=='?',md)"
   ]
  },
  {
   "cell_type": "code",
   "execution_count": 1133,
   "id": "79361a7d",
   "metadata": {},
   "outputs": [],
   "source": [
    "w=df1[df1['race']=='?']"
   ]
  },
  {
   "cell_type": "code",
   "execution_count": 1134,
   "id": "d62c686d",
   "metadata": {
    "scrolled": true
   },
   "outputs": [
    {
     "data": {
      "text/plain": [
       "0"
      ]
     },
     "execution_count": 1134,
     "metadata": {},
     "output_type": "execute_result"
    }
   ],
   "source": [
    "w['race'].count()"
   ]
  },
  {
   "cell_type": "markdown",
   "id": "6bd5f934",
   "metadata": {},
   "source": [
    "# Replacing ? with NaN"
   ]
  },
  {
   "cell_type": "code",
   "execution_count": 1135,
   "id": "9567615d",
   "metadata": {},
   "outputs": [],
   "source": [
    "df1.replace(\"?\",np.nan,inplace=True)"
   ]
  },
  {
   "cell_type": "code",
   "execution_count": 1136,
   "id": "ec469097",
   "metadata": {},
   "outputs": [
    {
     "data": {
      "text/plain": [
       "race                      0\n",
       "gender                    0\n",
       "age                       0\n",
       "time_in_hospital          0\n",
       "medical_specialty     23983\n",
       "num_lab_procedures        0\n",
       "num_procedures            0\n",
       "num_medications           0\n",
       "number_outpatient         0\n",
       "number_emergency          0\n",
       "number_inpatient          0\n",
       "diag_1                   11\n",
       "diag_2                  172\n",
       "diag_3                  685\n",
       "diag_4                  685\n",
       "diag_5                    0\n",
       "number_diagnoses          0\n",
       "X1                        0\n",
       "X2                        0\n",
       "X3                        0\n",
       "X4                        0\n",
       "X5                        0\n",
       "X6                        0\n",
       "X7                        0\n",
       "X8                        0\n",
       "X9                        0\n",
       "X10                       0\n",
       "X11                       0\n",
       "X12                       0\n",
       "X13                       0\n",
       "X14                       0\n",
       "X15                       0\n",
       "X16                       0\n",
       "X17                       0\n",
       "X18                       0\n",
       "X19                       0\n",
       "X20                       0\n",
       "X21                       0\n",
       "X22                       0\n",
       "X23                       0\n",
       "X24                       0\n",
       "X25                       0\n",
       "change                    0\n",
       "diabetesMed               0\n",
       "readmitted                0\n",
       "dtype: int64"
      ]
     },
     "execution_count": 1136,
     "metadata": {},
     "output_type": "execute_result"
    }
   ],
   "source": [
    "df1.isnull().sum()"
   ]
  },
  {
   "cell_type": "code",
   "execution_count": 1137,
   "id": "bfafa7fa",
   "metadata": {
    "scrolled": true
   },
   "outputs": [],
   "source": [
    "#df1['medical_specialty']=df1['medical_specialty'].fillna(df1['medical_specialty'].mode()[0df])\n",
    "df1.drop(['medical_specialty'],axis=1,inplace=True)"
   ]
  },
  {
   "cell_type": "code",
   "execution_count": 1138,
   "id": "ef7f7882",
   "metadata": {},
   "outputs": [
    {
     "data": {
      "text/plain": [
       "1553"
      ]
     },
     "execution_count": 1138,
     "metadata": {},
     "output_type": "execute_result"
    }
   ],
   "source": [
    "df1.isnull().sum().sum()"
   ]
  },
  {
   "cell_type": "code",
   "execution_count": 1139,
   "id": "9629452d",
   "metadata": {},
   "outputs": [],
   "source": [
    "df1['diag_3']=df1['diag_3'].fillna(df1['diag_3'].mode()[0])"
   ]
  },
  {
   "cell_type": "code",
   "execution_count": 1140,
   "id": "046449c5",
   "metadata": {},
   "outputs": [],
   "source": [
    "df1['diag_4']=df1['diag_4'].fillna(df1['diag_4'].mode()[0])"
   ]
  },
  {
   "cell_type": "code",
   "execution_count": 1141,
   "id": "4ef6d939",
   "metadata": {},
   "outputs": [],
   "source": [
    "df1=df1.dropna(axis=0)"
   ]
  },
  {
   "cell_type": "code",
   "execution_count": 1142,
   "id": "84ab3f53",
   "metadata": {},
   "outputs": [
    {
     "data": {
      "text/plain": [
       "0"
      ]
     },
     "execution_count": 1142,
     "metadata": {},
     "output_type": "execute_result"
    }
   ],
   "source": [
    "\n",
    "df1.isnull().sum().sum()"
   ]
  },
  {
   "cell_type": "code",
   "execution_count": 1143,
   "id": "fd6327fe",
   "metadata": {
    "scrolled": true
   },
   "outputs": [
    {
     "data": {
      "text/html": [
       "<div>\n",
       "<style scoped>\n",
       "    .dataframe tbody tr th:only-of-type {\n",
       "        vertical-align: middle;\n",
       "    }\n",
       "\n",
       "    .dataframe tbody tr th {\n",
       "        vertical-align: top;\n",
       "    }\n",
       "\n",
       "    .dataframe thead th {\n",
       "        text-align: right;\n",
       "    }\n",
       "</style>\n",
       "<table border=\"1\" class=\"dataframe\">\n",
       "  <thead>\n",
       "    <tr style=\"text-align: right;\">\n",
       "      <th></th>\n",
       "      <th>race</th>\n",
       "      <th>gender</th>\n",
       "      <th>age</th>\n",
       "      <th>time_in_hospital</th>\n",
       "      <th>num_lab_procedures</th>\n",
       "      <th>num_procedures</th>\n",
       "      <th>num_medications</th>\n",
       "      <th>number_outpatient</th>\n",
       "      <th>number_emergency</th>\n",
       "      <th>number_inpatient</th>\n",
       "      <th>...</th>\n",
       "      <th>X19</th>\n",
       "      <th>X20</th>\n",
       "      <th>X21</th>\n",
       "      <th>X22</th>\n",
       "      <th>X23</th>\n",
       "      <th>X24</th>\n",
       "      <th>X25</th>\n",
       "      <th>change</th>\n",
       "      <th>diabetesMed</th>\n",
       "      <th>readmitted</th>\n",
       "    </tr>\n",
       "  </thead>\n",
       "  <tbody>\n",
       "    <tr>\n",
       "      <th>0</th>\n",
       "      <td>Hispanic</td>\n",
       "      <td>Male</td>\n",
       "      <td>[80-90)</td>\n",
       "      <td>4</td>\n",
       "      <td>39</td>\n",
       "      <td>1</td>\n",
       "      <td>9</td>\n",
       "      <td>1</td>\n",
       "      <td>1</td>\n",
       "      <td>4</td>\n",
       "      <td>...</td>\n",
       "      <td>No</td>\n",
       "      <td>No</td>\n",
       "      <td>No</td>\n",
       "      <td>No</td>\n",
       "      <td>No</td>\n",
       "      <td>No</td>\n",
       "      <td>No</td>\n",
       "      <td>No</td>\n",
       "      <td>Yes</td>\n",
       "      <td>1</td>\n",
       "    </tr>\n",
       "    <tr>\n",
       "      <th>1</th>\n",
       "      <td>Caucasian</td>\n",
       "      <td>Male</td>\n",
       "      <td>[60-70)</td>\n",
       "      <td>3</td>\n",
       "      <td>34</td>\n",
       "      <td>1</td>\n",
       "      <td>12</td>\n",
       "      <td>0</td>\n",
       "      <td>0</td>\n",
       "      <td>0</td>\n",
       "      <td>...</td>\n",
       "      <td>No</td>\n",
       "      <td>No</td>\n",
       "      <td>No</td>\n",
       "      <td>No</td>\n",
       "      <td>No</td>\n",
       "      <td>No</td>\n",
       "      <td>No</td>\n",
       "      <td>No</td>\n",
       "      <td>No</td>\n",
       "      <td>0</td>\n",
       "    </tr>\n",
       "    <tr>\n",
       "      <th>2</th>\n",
       "      <td>Caucasian</td>\n",
       "      <td>Female</td>\n",
       "      <td>[50-60)</td>\n",
       "      <td>6</td>\n",
       "      <td>50</td>\n",
       "      <td>2</td>\n",
       "      <td>24</td>\n",
       "      <td>0</td>\n",
       "      <td>0</td>\n",
       "      <td>5</td>\n",
       "      <td>...</td>\n",
       "      <td>No</td>\n",
       "      <td>Down</td>\n",
       "      <td>No</td>\n",
       "      <td>No</td>\n",
       "      <td>No</td>\n",
       "      <td>No</td>\n",
       "      <td>No</td>\n",
       "      <td>Ch</td>\n",
       "      <td>Yes</td>\n",
       "      <td>1</td>\n",
       "    </tr>\n",
       "    <tr>\n",
       "      <th>3</th>\n",
       "      <td>AfricanAmerican</td>\n",
       "      <td>Female</td>\n",
       "      <td>[70-80)</td>\n",
       "      <td>5</td>\n",
       "      <td>63</td>\n",
       "      <td>0</td>\n",
       "      <td>14</td>\n",
       "      <td>0</td>\n",
       "      <td>0</td>\n",
       "      <td>0</td>\n",
       "      <td>...</td>\n",
       "      <td>No</td>\n",
       "      <td>Down</td>\n",
       "      <td>No</td>\n",
       "      <td>No</td>\n",
       "      <td>No</td>\n",
       "      <td>No</td>\n",
       "      <td>No</td>\n",
       "      <td>Ch</td>\n",
       "      <td>Yes</td>\n",
       "      <td>1</td>\n",
       "    </tr>\n",
       "    <tr>\n",
       "      <th>4</th>\n",
       "      <td>Caucasian</td>\n",
       "      <td>Male</td>\n",
       "      <td>[70-80)</td>\n",
       "      <td>9</td>\n",
       "      <td>17</td>\n",
       "      <td>1</td>\n",
       "      <td>11</td>\n",
       "      <td>0</td>\n",
       "      <td>0</td>\n",
       "      <td>0</td>\n",
       "      <td>...</td>\n",
       "      <td>No</td>\n",
       "      <td>No</td>\n",
       "      <td>No</td>\n",
       "      <td>No</td>\n",
       "      <td>No</td>\n",
       "      <td>No</td>\n",
       "      <td>No</td>\n",
       "      <td>No</td>\n",
       "      <td>No</td>\n",
       "      <td>1</td>\n",
       "    </tr>\n",
       "  </tbody>\n",
       "</table>\n",
       "<p>5 rows × 44 columns</p>\n",
       "</div>"
      ],
      "text/plain": [
       "              race  gender      age  time_in_hospital  num_lab_procedures  \\\n",
       "0         Hispanic    Male  [80-90)                 4                  39   \n",
       "1        Caucasian    Male  [60-70)                 3                  34   \n",
       "2        Caucasian  Female  [50-60)                 6                  50   \n",
       "3  AfricanAmerican  Female  [70-80)                 5                  63   \n",
       "4        Caucasian    Male  [70-80)                 9                  17   \n",
       "\n",
       "   num_procedures  num_medications  number_outpatient  number_emergency  \\\n",
       "0               1                9                  1                 1   \n",
       "1               1               12                  0                 0   \n",
       "2               2               24                  0                 0   \n",
       "3               0               14                  0                 0   \n",
       "4               1               11                  0                 0   \n",
       "\n",
       "   number_inpatient  ... X19   X20 X21 X22  X23  X24 X25 change diabetesMed  \\\n",
       "0                 4  ...  No    No  No  No   No   No  No     No         Yes   \n",
       "1                 0  ...  No    No  No  No   No   No  No     No          No   \n",
       "2                 5  ...  No  Down  No  No   No   No  No     Ch         Yes   \n",
       "3                 0  ...  No  Down  No  No   No   No  No     Ch         Yes   \n",
       "4                 0  ...  No    No  No  No   No   No  No     No          No   \n",
       "\n",
       "  readmitted  \n",
       "0          1  \n",
       "1          0  \n",
       "2          1  \n",
       "3          1  \n",
       "4          1  \n",
       "\n",
       "[5 rows x 44 columns]"
      ]
     },
     "execution_count": 1143,
     "metadata": {},
     "output_type": "execute_result"
    }
   ],
   "source": [
    "df1.head()"
   ]
  },
  {
   "cell_type": "code",
   "execution_count": 1144,
   "id": "5ee9f51f",
   "metadata": {
    "scrolled": false
   },
   "outputs": [
    {
     "data": {
      "text/html": [
       "<div>\n",
       "<style scoped>\n",
       "    .dataframe tbody tr th:only-of-type {\n",
       "        vertical-align: middle;\n",
       "    }\n",
       "\n",
       "    .dataframe tbody tr th {\n",
       "        vertical-align: top;\n",
       "    }\n",
       "\n",
       "    .dataframe thead th {\n",
       "        text-align: right;\n",
       "    }\n",
       "</style>\n",
       "<table border=\"1\" class=\"dataframe\">\n",
       "  <thead>\n",
       "    <tr style=\"text-align: right;\">\n",
       "      <th></th>\n",
       "      <th>time_in_hospital</th>\n",
       "      <th>num_lab_procedures</th>\n",
       "      <th>num_procedures</th>\n",
       "      <th>num_medications</th>\n",
       "      <th>number_outpatient</th>\n",
       "      <th>number_emergency</th>\n",
       "      <th>number_inpatient</th>\n",
       "      <th>diag_5</th>\n",
       "      <th>number_diagnoses</th>\n",
       "      <th>readmitted</th>\n",
       "    </tr>\n",
       "  </thead>\n",
       "  <tbody>\n",
       "    <tr>\n",
       "      <th>count</th>\n",
       "      <td>48729.000000</td>\n",
       "      <td>48729.000000</td>\n",
       "      <td>48729.000000</td>\n",
       "      <td>48729.000000</td>\n",
       "      <td>48729.000000</td>\n",
       "      <td>48729.000000</td>\n",
       "      <td>48729.000000</td>\n",
       "      <td>48729.000000</td>\n",
       "      <td>48729.000000</td>\n",
       "      <td>48729.000000</td>\n",
       "    </tr>\n",
       "    <tr>\n",
       "      <th>mean</th>\n",
       "      <td>4.407765</td>\n",
       "      <td>43.109852</td>\n",
       "      <td>1.337725</td>\n",
       "      <td>16.057543</td>\n",
       "      <td>0.369841</td>\n",
       "      <td>0.205524</td>\n",
       "      <td>0.638285</td>\n",
       "      <td>49.852937</td>\n",
       "      <td>7.440436</td>\n",
       "      <td>0.462846</td>\n",
       "    </tr>\n",
       "    <tr>\n",
       "      <th>std</th>\n",
       "      <td>2.988745</td>\n",
       "      <td>19.640402</td>\n",
       "      <td>1.708628</td>\n",
       "      <td>8.136720</td>\n",
       "      <td>1.233766</td>\n",
       "      <td>0.935608</td>\n",
       "      <td>1.259314</td>\n",
       "      <td>28.855028</td>\n",
       "      <td>1.911626</td>\n",
       "      <td>0.498623</td>\n",
       "    </tr>\n",
       "    <tr>\n",
       "      <th>min</th>\n",
       "      <td>1.000000</td>\n",
       "      <td>1.000000</td>\n",
       "      <td>0.000000</td>\n",
       "      <td>1.000000</td>\n",
       "      <td>0.000000</td>\n",
       "      <td>0.000000</td>\n",
       "      <td>0.000000</td>\n",
       "      <td>0.000283</td>\n",
       "      <td>2.000000</td>\n",
       "      <td>0.000000</td>\n",
       "    </tr>\n",
       "    <tr>\n",
       "      <th>25%</th>\n",
       "      <td>2.000000</td>\n",
       "      <td>31.000000</td>\n",
       "      <td>0.000000</td>\n",
       "      <td>10.000000</td>\n",
       "      <td>0.000000</td>\n",
       "      <td>0.000000</td>\n",
       "      <td>0.000000</td>\n",
       "      <td>24.954927</td>\n",
       "      <td>6.000000</td>\n",
       "      <td>0.000000</td>\n",
       "    </tr>\n",
       "    <tr>\n",
       "      <th>50%</th>\n",
       "      <td>4.000000</td>\n",
       "      <td>44.000000</td>\n",
       "      <td>1.000000</td>\n",
       "      <td>15.000000</td>\n",
       "      <td>0.000000</td>\n",
       "      <td>0.000000</td>\n",
       "      <td>0.000000</td>\n",
       "      <td>49.760821</td>\n",
       "      <td>8.000000</td>\n",
       "      <td>0.000000</td>\n",
       "    </tr>\n",
       "    <tr>\n",
       "      <th>75%</th>\n",
       "      <td>6.000000</td>\n",
       "      <td>57.000000</td>\n",
       "      <td>2.000000</td>\n",
       "      <td>20.000000</td>\n",
       "      <td>0.000000</td>\n",
       "      <td>0.000000</td>\n",
       "      <td>1.000000</td>\n",
       "      <td>74.831931</td>\n",
       "      <td>9.000000</td>\n",
       "      <td>1.000000</td>\n",
       "    </tr>\n",
       "    <tr>\n",
       "      <th>max</th>\n",
       "      <td>14.000000</td>\n",
       "      <td>129.000000</td>\n",
       "      <td>6.000000</td>\n",
       "      <td>81.000000</td>\n",
       "      <td>39.000000</td>\n",
       "      <td>63.000000</td>\n",
       "      <td>19.000000</td>\n",
       "      <td>99.995810</td>\n",
       "      <td>16.000000</td>\n",
       "      <td>1.000000</td>\n",
       "    </tr>\n",
       "  </tbody>\n",
       "</table>\n",
       "</div>"
      ],
      "text/plain": [
       "       time_in_hospital  num_lab_procedures  num_procedures  num_medications  \\\n",
       "count      48729.000000        48729.000000    48729.000000     48729.000000   \n",
       "mean           4.407765           43.109852        1.337725        16.057543   \n",
       "std            2.988745           19.640402        1.708628         8.136720   \n",
       "min            1.000000            1.000000        0.000000         1.000000   \n",
       "25%            2.000000           31.000000        0.000000        10.000000   \n",
       "50%            4.000000           44.000000        1.000000        15.000000   \n",
       "75%            6.000000           57.000000        2.000000        20.000000   \n",
       "max           14.000000          129.000000        6.000000        81.000000   \n",
       "\n",
       "       number_outpatient  number_emergency  number_inpatient        diag_5  \\\n",
       "count       48729.000000      48729.000000      48729.000000  48729.000000   \n",
       "mean            0.369841          0.205524          0.638285     49.852937   \n",
       "std             1.233766          0.935608          1.259314     28.855028   \n",
       "min             0.000000          0.000000          0.000000      0.000283   \n",
       "25%             0.000000          0.000000          0.000000     24.954927   \n",
       "50%             0.000000          0.000000          0.000000     49.760821   \n",
       "75%             0.000000          0.000000          1.000000     74.831931   \n",
       "max            39.000000         63.000000         19.000000     99.995810   \n",
       "\n",
       "       number_diagnoses    readmitted  \n",
       "count      48729.000000  48729.000000  \n",
       "mean           7.440436      0.462846  \n",
       "std            1.911626      0.498623  \n",
       "min            2.000000      0.000000  \n",
       "25%            6.000000      0.000000  \n",
       "50%            8.000000      0.000000  \n",
       "75%            9.000000      1.000000  \n",
       "max           16.000000      1.000000  "
      ]
     },
     "execution_count": 1144,
     "metadata": {},
     "output_type": "execute_result"
    }
   ],
   "source": [
    "df1.describe()"
   ]
  },
  {
   "cell_type": "code",
   "execution_count": 1145,
   "id": "54b9c75b",
   "metadata": {},
   "outputs": [
    {
     "data": {
      "text/plain": [
       "(48729, 44)"
      ]
     },
     "execution_count": 1145,
     "metadata": {},
     "output_type": "execute_result"
    }
   ],
   "source": [
    "df1.shape"
   ]
  },
  {
   "cell_type": "markdown",
   "id": "1c1c5c7d",
   "metadata": {},
   "source": [
    "# Detecting Outliers"
   ]
  },
  {
   "cell_type": "code",
   "execution_count": 1146,
   "id": "32490774",
   "metadata": {},
   "outputs": [
    {
     "data": {
      "text/plain": [
       "(66587, 49)"
      ]
     },
     "execution_count": 1146,
     "metadata": {},
     "output_type": "execute_result"
    }
   ],
   "source": [
    "df.shape"
   ]
  },
  {
   "cell_type": "code",
   "execution_count": 1147,
   "id": "d1f39e28",
   "metadata": {},
   "outputs": [],
   "source": [
    "ot_columns=['time_in_hospital','num_lab_procedures','num_procedures','num_medications','number_outpatient',\n",
    "           'number_emergency','number_inpatient','diag_5','number_diagnoses']"
   ]
  },
  {
   "cell_type": "code",
   "execution_count": null,
   "id": "2b95d011",
   "metadata": {},
   "outputs": [],
   "source": []
  },
  {
   "cell_type": "code",
   "execution_count": 1148,
   "id": "dc550387",
   "metadata": {
    "scrolled": true
   },
   "outputs": [
    {
     "name": "stdout",
     "output_type": "stream",
     "text": [
      "Outliers for : time_in_hospital \n",
      "\n",
      "2.0 6.0 4.0\n",
      "Upper 12.0\n",
      "(array([    8,    30,    46, ..., 48511, 48545, 48674], dtype=int64),)\n",
      "lower -4.0\n",
      "(array([], dtype=int64),) \n",
      "\n",
      "Outliers for : num_lab_procedures \n",
      "\n",
      "31.0 57.0 26.0\n",
      "Upper 96.0\n",
      "(array([ 1333,  3072,  3550,  3570,  4163,  4497,  6095,  6527,  6608,\n",
      "        8373,  8700,  8784,  9464,  9499, 10948, 11212, 11411, 12013,\n",
      "       12378, 12835, 12879, 13683, 14289, 14540, 15335, 15852, 16913,\n",
      "       17066, 17687, 17870, 18215, 18896, 19116, 19154, 19745, 19765,\n",
      "       19858, 20130, 22356, 22388, 22722, 23587, 25308, 25697, 26000,\n",
      "       26241, 26420, 26887, 28685, 29736, 30220, 30928, 30968, 32828,\n",
      "       33341, 33816, 34144, 34502, 35430, 35505, 35915, 36409, 37113,\n",
      "       37303, 37826, 37851, 38513, 38579, 38627, 38852, 41392, 43038,\n",
      "       43639, 43871, 45349, 45753, 46051, 46429, 46703, 47464, 48546,\n",
      "       48619], dtype=int64),)\n",
      "lower -8.0\n",
      "(array([], dtype=int64),) \n",
      "\n",
      "Outliers for : num_procedures \n",
      "\n",
      "0.0 2.0 2.0\n",
      "Upper 5.0\n",
      "(array([    8,     9,    13, ..., 48707, 48710, 48718], dtype=int64),)\n",
      "lower -3.0\n",
      "(array([], dtype=int64),) \n",
      "\n",
      "Outliers for : num_medications \n",
      "\n",
      "10.0 20.0 10.0\n",
      "Upper 35.0\n",
      "(array([   13,    66,   101, ..., 48612, 48622, 48724], dtype=int64),)\n",
      "lower -5.0\n",
      "(array([], dtype=int64),) \n",
      "\n",
      "Outliers for : number_outpatient \n",
      "\n",
      "0.0 0.0 0.0\n",
      "Upper 0.0\n",
      "(array([    0,     1,     2, ..., 48726, 48727, 48728], dtype=int64),)\n",
      "lower 0.0\n",
      "(array([    1,     2,     3, ..., 48726, 48727, 48728], dtype=int64),) \n",
      "\n",
      "Outliers for : number_emergency \n",
      "\n",
      "0.0 0.0 0.0\n",
      "Upper 0.0\n",
      "(array([    0,     1,     2, ..., 48726, 48727, 48728], dtype=int64),)\n",
      "lower 0.0\n",
      "(array([    1,     2,     3, ..., 48726, 48727, 48728], dtype=int64),) \n",
      "\n",
      "Outliers for : number_inpatient \n",
      "\n",
      "0.0 1.0 1.0\n",
      "Upper 2.5\n",
      "(array([    0,     2,    19, ..., 48706, 48719, 48721], dtype=int64),)\n",
      "lower -1.5\n",
      "(array([], dtype=int64),) \n",
      "\n",
      "Outliers for : diag_5 \n",
      "\n",
      "24.954927438305685 74.83193114616263 49.87700370785694\n",
      "Upper 149.64743670794803\n",
      "(array([], dtype=int64),)\n",
      "lower -49.860578123479726\n",
      "(array([], dtype=int64),) \n",
      "\n",
      "Outliers for : number_diagnoses \n",
      "\n",
      "6.0 9.0 3.0\n",
      "Upper 13.5\n",
      "(array([ 1759,  3109,  3648,  4244,  9512,  9711, 10131, 11558, 12962,\n",
      "       20761, 21964, 22303, 25159, 26931, 31323, 32213, 33939, 36089,\n",
      "       36219, 38496, 43768, 44443, 46178, 46587], dtype=int64),)\n",
      "lower 1.5\n",
      "(array([], dtype=int64),) \n",
      "\n"
     ]
    }
   ],
   "source": [
    "for col in ot_columns:\n",
    "\n",
    "    q1=np.percentile(df1[col],25) \n",
    "    q3=np.percentile(df1[col],75)\n",
    "\n",
    "    IQR=q3-q1\n",
    "    \n",
    "    print('Outliers for :',col,'\\n')\n",
    "    print(q1,q3,IQR)\n",
    "\n",
    "#detecting upper bounds\n",
    "    upper=q3+1.5*IQR\n",
    "    print('Upper',upper)\n",
    "\n",
    "    up=df1[col]>=upper\n",
    "    print(np.where(up))\n",
    "\n",
    "\n",
    "#detectiong lower bounds\n",
    "    lower=q1-1.5*IQR\n",
    "    print('lower',lower)\n",
    "\n",
    "    lw=df1[col]<=lower\n",
    "    print(np.where(lw),'\\n')"
   ]
  },
  {
   "cell_type": "code",
   "execution_count": 1149,
   "id": "c2dd5064",
   "metadata": {},
   "outputs": [],
   "source": [
    "out_columns=['time_in_hospital','num_lab_procedures','num_procedures','num_medications','number_diagnoses']"
   ]
  },
  {
   "cell_type": "code",
   "execution_count": 1150,
   "id": "09f265a7",
   "metadata": {},
   "outputs": [
    {
     "name": "stdout",
     "output_type": "stream",
     "text": [
      "1.0 9.0\n",
      "14.0 67.0\n",
      "0.0 4.0\n",
      "7.0 26.0\n",
      "5.0 9.0\n"
     ]
    }
   ],
   "source": [
    "for col in out_columns:\n",
    "    tenth_percentile=np.percentile(df1[col],10)\n",
    "    ninetieth_percentile=np.percentile(df1[col],90)\n",
    "    print(tenth_percentile,ninetieth_percentile)\n",
    "    df1[col]=np.where(df1[col]<tenth_percentile,tenth_percentile,df1[col]) \n",
    "    df1[col]=np.where(df1[col]>ninetieth_percentile,ninetieth_percentile,df1[col])"
   ]
  },
  {
   "cell_type": "code",
   "execution_count": 1151,
   "id": "4e78a43c",
   "metadata": {},
   "outputs": [
    {
     "data": {
      "text/html": [
       "<div>\n",
       "<style scoped>\n",
       "    .dataframe tbody tr th:only-of-type {\n",
       "        vertical-align: middle;\n",
       "    }\n",
       "\n",
       "    .dataframe tbody tr th {\n",
       "        vertical-align: top;\n",
       "    }\n",
       "\n",
       "    .dataframe thead th {\n",
       "        text-align: right;\n",
       "    }\n",
       "</style>\n",
       "<table border=\"1\" class=\"dataframe\">\n",
       "  <thead>\n",
       "    <tr style=\"text-align: right;\">\n",
       "      <th></th>\n",
       "      <th>race</th>\n",
       "      <th>gender</th>\n",
       "      <th>age</th>\n",
       "      <th>time_in_hospital</th>\n",
       "      <th>num_lab_procedures</th>\n",
       "      <th>num_procedures</th>\n",
       "      <th>num_medications</th>\n",
       "      <th>number_outpatient</th>\n",
       "      <th>number_emergency</th>\n",
       "      <th>number_inpatient</th>\n",
       "      <th>...</th>\n",
       "      <th>X19</th>\n",
       "      <th>X20</th>\n",
       "      <th>X21</th>\n",
       "      <th>X22</th>\n",
       "      <th>X23</th>\n",
       "      <th>X24</th>\n",
       "      <th>X25</th>\n",
       "      <th>change</th>\n",
       "      <th>diabetesMed</th>\n",
       "      <th>readmitted</th>\n",
       "    </tr>\n",
       "  </thead>\n",
       "  <tbody>\n",
       "    <tr>\n",
       "      <th>0</th>\n",
       "      <td>Hispanic</td>\n",
       "      <td>Male</td>\n",
       "      <td>[80-90)</td>\n",
       "      <td>4.0</td>\n",
       "      <td>39.0</td>\n",
       "      <td>1.0</td>\n",
       "      <td>9.0</td>\n",
       "      <td>1</td>\n",
       "      <td>1</td>\n",
       "      <td>4</td>\n",
       "      <td>...</td>\n",
       "      <td>No</td>\n",
       "      <td>No</td>\n",
       "      <td>No</td>\n",
       "      <td>No</td>\n",
       "      <td>No</td>\n",
       "      <td>No</td>\n",
       "      <td>No</td>\n",
       "      <td>No</td>\n",
       "      <td>Yes</td>\n",
       "      <td>1</td>\n",
       "    </tr>\n",
       "    <tr>\n",
       "      <th>1</th>\n",
       "      <td>Caucasian</td>\n",
       "      <td>Male</td>\n",
       "      <td>[60-70)</td>\n",
       "      <td>3.0</td>\n",
       "      <td>34.0</td>\n",
       "      <td>1.0</td>\n",
       "      <td>12.0</td>\n",
       "      <td>0</td>\n",
       "      <td>0</td>\n",
       "      <td>0</td>\n",
       "      <td>...</td>\n",
       "      <td>No</td>\n",
       "      <td>No</td>\n",
       "      <td>No</td>\n",
       "      <td>No</td>\n",
       "      <td>No</td>\n",
       "      <td>No</td>\n",
       "      <td>No</td>\n",
       "      <td>No</td>\n",
       "      <td>No</td>\n",
       "      <td>0</td>\n",
       "    </tr>\n",
       "    <tr>\n",
       "      <th>2</th>\n",
       "      <td>Caucasian</td>\n",
       "      <td>Female</td>\n",
       "      <td>[50-60)</td>\n",
       "      <td>6.0</td>\n",
       "      <td>50.0</td>\n",
       "      <td>2.0</td>\n",
       "      <td>24.0</td>\n",
       "      <td>0</td>\n",
       "      <td>0</td>\n",
       "      <td>5</td>\n",
       "      <td>...</td>\n",
       "      <td>No</td>\n",
       "      <td>Down</td>\n",
       "      <td>No</td>\n",
       "      <td>No</td>\n",
       "      <td>No</td>\n",
       "      <td>No</td>\n",
       "      <td>No</td>\n",
       "      <td>Ch</td>\n",
       "      <td>Yes</td>\n",
       "      <td>1</td>\n",
       "    </tr>\n",
       "    <tr>\n",
       "      <th>3</th>\n",
       "      <td>AfricanAmerican</td>\n",
       "      <td>Female</td>\n",
       "      <td>[70-80)</td>\n",
       "      <td>5.0</td>\n",
       "      <td>63.0</td>\n",
       "      <td>0.0</td>\n",
       "      <td>14.0</td>\n",
       "      <td>0</td>\n",
       "      <td>0</td>\n",
       "      <td>0</td>\n",
       "      <td>...</td>\n",
       "      <td>No</td>\n",
       "      <td>Down</td>\n",
       "      <td>No</td>\n",
       "      <td>No</td>\n",
       "      <td>No</td>\n",
       "      <td>No</td>\n",
       "      <td>No</td>\n",
       "      <td>Ch</td>\n",
       "      <td>Yes</td>\n",
       "      <td>1</td>\n",
       "    </tr>\n",
       "    <tr>\n",
       "      <th>4</th>\n",
       "      <td>Caucasian</td>\n",
       "      <td>Male</td>\n",
       "      <td>[70-80)</td>\n",
       "      <td>9.0</td>\n",
       "      <td>17.0</td>\n",
       "      <td>1.0</td>\n",
       "      <td>11.0</td>\n",
       "      <td>0</td>\n",
       "      <td>0</td>\n",
       "      <td>0</td>\n",
       "      <td>...</td>\n",
       "      <td>No</td>\n",
       "      <td>No</td>\n",
       "      <td>No</td>\n",
       "      <td>No</td>\n",
       "      <td>No</td>\n",
       "      <td>No</td>\n",
       "      <td>No</td>\n",
       "      <td>No</td>\n",
       "      <td>No</td>\n",
       "      <td>1</td>\n",
       "    </tr>\n",
       "    <tr>\n",
       "      <th>...</th>\n",
       "      <td>...</td>\n",
       "      <td>...</td>\n",
       "      <td>...</td>\n",
       "      <td>...</td>\n",
       "      <td>...</td>\n",
       "      <td>...</td>\n",
       "      <td>...</td>\n",
       "      <td>...</td>\n",
       "      <td>...</td>\n",
       "      <td>...</td>\n",
       "      <td>...</td>\n",
       "      <td>...</td>\n",
       "      <td>...</td>\n",
       "      <td>...</td>\n",
       "      <td>...</td>\n",
       "      <td>...</td>\n",
       "      <td>...</td>\n",
       "      <td>...</td>\n",
       "      <td>...</td>\n",
       "      <td>...</td>\n",
       "      <td>...</td>\n",
       "    </tr>\n",
       "    <tr>\n",
       "      <th>66582</th>\n",
       "      <td>Caucasian</td>\n",
       "      <td>Female</td>\n",
       "      <td>[70-80)</td>\n",
       "      <td>9.0</td>\n",
       "      <td>40.0</td>\n",
       "      <td>4.0</td>\n",
       "      <td>26.0</td>\n",
       "      <td>0</td>\n",
       "      <td>0</td>\n",
       "      <td>0</td>\n",
       "      <td>...</td>\n",
       "      <td>No</td>\n",
       "      <td>Steady</td>\n",
       "      <td>No</td>\n",
       "      <td>No</td>\n",
       "      <td>No</td>\n",
       "      <td>No</td>\n",
       "      <td>No</td>\n",
       "      <td>No</td>\n",
       "      <td>Yes</td>\n",
       "      <td>0</td>\n",
       "    </tr>\n",
       "    <tr>\n",
       "      <th>66583</th>\n",
       "      <td>Caucasian</td>\n",
       "      <td>Male</td>\n",
       "      <td>[80-90)</td>\n",
       "      <td>4.0</td>\n",
       "      <td>39.0</td>\n",
       "      <td>1.0</td>\n",
       "      <td>7.0</td>\n",
       "      <td>0</td>\n",
       "      <td>0</td>\n",
       "      <td>0</td>\n",
       "      <td>...</td>\n",
       "      <td>No</td>\n",
       "      <td>No</td>\n",
       "      <td>No</td>\n",
       "      <td>No</td>\n",
       "      <td>No</td>\n",
       "      <td>No</td>\n",
       "      <td>No</td>\n",
       "      <td>No</td>\n",
       "      <td>No</td>\n",
       "      <td>1</td>\n",
       "    </tr>\n",
       "    <tr>\n",
       "      <th>66584</th>\n",
       "      <td>Caucasian</td>\n",
       "      <td>Female</td>\n",
       "      <td>[60-70)</td>\n",
       "      <td>2.0</td>\n",
       "      <td>24.0</td>\n",
       "      <td>1.0</td>\n",
       "      <td>13.0</td>\n",
       "      <td>0</td>\n",
       "      <td>0</td>\n",
       "      <td>2</td>\n",
       "      <td>...</td>\n",
       "      <td>No</td>\n",
       "      <td>No</td>\n",
       "      <td>No</td>\n",
       "      <td>No</td>\n",
       "      <td>No</td>\n",
       "      <td>No</td>\n",
       "      <td>No</td>\n",
       "      <td>No</td>\n",
       "      <td>Yes</td>\n",
       "      <td>1</td>\n",
       "    </tr>\n",
       "    <tr>\n",
       "      <th>66585</th>\n",
       "      <td>Caucasian</td>\n",
       "      <td>Female</td>\n",
       "      <td>[80-90)</td>\n",
       "      <td>4.0</td>\n",
       "      <td>39.0</td>\n",
       "      <td>1.0</td>\n",
       "      <td>14.0</td>\n",
       "      <td>0</td>\n",
       "      <td>0</td>\n",
       "      <td>0</td>\n",
       "      <td>...</td>\n",
       "      <td>No</td>\n",
       "      <td>No</td>\n",
       "      <td>No</td>\n",
       "      <td>No</td>\n",
       "      <td>No</td>\n",
       "      <td>No</td>\n",
       "      <td>No</td>\n",
       "      <td>No</td>\n",
       "      <td>No</td>\n",
       "      <td>0</td>\n",
       "    </tr>\n",
       "    <tr>\n",
       "      <th>66586</th>\n",
       "      <td>Caucasian</td>\n",
       "      <td>Female</td>\n",
       "      <td>[80-90)</td>\n",
       "      <td>2.0</td>\n",
       "      <td>38.0</td>\n",
       "      <td>2.0</td>\n",
       "      <td>12.0</td>\n",
       "      <td>0</td>\n",
       "      <td>0</td>\n",
       "      <td>0</td>\n",
       "      <td>...</td>\n",
       "      <td>No</td>\n",
       "      <td>Steady</td>\n",
       "      <td>No</td>\n",
       "      <td>No</td>\n",
       "      <td>No</td>\n",
       "      <td>No</td>\n",
       "      <td>No</td>\n",
       "      <td>Ch</td>\n",
       "      <td>Yes</td>\n",
       "      <td>1</td>\n",
       "    </tr>\n",
       "  </tbody>\n",
       "</table>\n",
       "<p>48729 rows × 44 columns</p>\n",
       "</div>"
      ],
      "text/plain": [
       "                  race  gender      age  time_in_hospital  num_lab_procedures  \\\n",
       "0             Hispanic    Male  [80-90)               4.0                39.0   \n",
       "1            Caucasian    Male  [60-70)               3.0                34.0   \n",
       "2            Caucasian  Female  [50-60)               6.0                50.0   \n",
       "3      AfricanAmerican  Female  [70-80)               5.0                63.0   \n",
       "4            Caucasian    Male  [70-80)               9.0                17.0   \n",
       "...                ...     ...      ...               ...                 ...   \n",
       "66582        Caucasian  Female  [70-80)               9.0                40.0   \n",
       "66583        Caucasian    Male  [80-90)               4.0                39.0   \n",
       "66584        Caucasian  Female  [60-70)               2.0                24.0   \n",
       "66585        Caucasian  Female  [80-90)               4.0                39.0   \n",
       "66586        Caucasian  Female  [80-90)               2.0                38.0   \n",
       "\n",
       "       num_procedures  num_medications  number_outpatient  number_emergency  \\\n",
       "0                 1.0              9.0                  1                 1   \n",
       "1                 1.0             12.0                  0                 0   \n",
       "2                 2.0             24.0                  0                 0   \n",
       "3                 0.0             14.0                  0                 0   \n",
       "4                 1.0             11.0                  0                 0   \n",
       "...               ...              ...                ...               ...   \n",
       "66582             4.0             26.0                  0                 0   \n",
       "66583             1.0              7.0                  0                 0   \n",
       "66584             1.0             13.0                  0                 0   \n",
       "66585             1.0             14.0                  0                 0   \n",
       "66586             2.0             12.0                  0                 0   \n",
       "\n",
       "       number_inpatient  ... X19     X20 X21 X22  X23  X24 X25 change  \\\n",
       "0                     4  ...  No      No  No  No   No   No  No     No   \n",
       "1                     0  ...  No      No  No  No   No   No  No     No   \n",
       "2                     5  ...  No    Down  No  No   No   No  No     Ch   \n",
       "3                     0  ...  No    Down  No  No   No   No  No     Ch   \n",
       "4                     0  ...  No      No  No  No   No   No  No     No   \n",
       "...                 ...  ...  ..     ...  ..  ..  ...  ...  ..    ...   \n",
       "66582                 0  ...  No  Steady  No  No   No   No  No     No   \n",
       "66583                 0  ...  No      No  No  No   No   No  No     No   \n",
       "66584                 2  ...  No      No  No  No   No   No  No     No   \n",
       "66585                 0  ...  No      No  No  No   No   No  No     No   \n",
       "66586                 0  ...  No  Steady  No  No   No   No  No     Ch   \n",
       "\n",
       "      diabetesMed readmitted  \n",
       "0             Yes          1  \n",
       "1              No          0  \n",
       "2             Yes          1  \n",
       "3             Yes          1  \n",
       "4              No          1  \n",
       "...           ...        ...  \n",
       "66582         Yes          0  \n",
       "66583          No          1  \n",
       "66584         Yes          1  \n",
       "66585          No          0  \n",
       "66586         Yes          1  \n",
       "\n",
       "[48729 rows x 44 columns]"
      ]
     },
     "execution_count": 1151,
     "metadata": {},
     "output_type": "execute_result"
    }
   ],
   "source": [
    "df1"
   ]
  },
  {
   "cell_type": "code",
   "execution_count": 1152,
   "id": "50416167",
   "metadata": {},
   "outputs": [
    {
     "name": "stdout",
     "output_type": "stream",
     "text": [
      "<class 'pandas.core.frame.DataFrame'>\n",
      "Int64Index: 48729 entries, 0 to 66586\n",
      "Data columns (total 44 columns):\n",
      " #   Column              Non-Null Count  Dtype  \n",
      "---  ------              --------------  -----  \n",
      " 0   race                48729 non-null  object \n",
      " 1   gender              48729 non-null  object \n",
      " 2   age                 48729 non-null  object \n",
      " 3   time_in_hospital    48729 non-null  float64\n",
      " 4   num_lab_procedures  48729 non-null  float64\n",
      " 5   num_procedures      48729 non-null  float64\n",
      " 6   num_medications     48729 non-null  float64\n",
      " 7   number_outpatient   48729 non-null  int64  \n",
      " 8   number_emergency    48729 non-null  int64  \n",
      " 9   number_inpatient    48729 non-null  int64  \n",
      " 10  diag_1              48729 non-null  object \n",
      " 11  diag_2              48729 non-null  object \n",
      " 12  diag_3              48729 non-null  object \n",
      " 13  diag_4              48729 non-null  object \n",
      " 14  diag_5              48729 non-null  float64\n",
      " 15  number_diagnoses    48729 non-null  float64\n",
      " 16  X1                  48729 non-null  object \n",
      " 17  X2                  48729 non-null  object \n",
      " 18  X3                  48729 non-null  object \n",
      " 19  X4                  48729 non-null  object \n",
      " 20  X5                  48729 non-null  object \n",
      " 21  X6                  48729 non-null  object \n",
      " 22  X7                  48729 non-null  object \n",
      " 23  X8                  48729 non-null  object \n",
      " 24  X9                  48729 non-null  object \n",
      " 25  X10                 48729 non-null  object \n",
      " 26  X11                 48729 non-null  object \n",
      " 27  X12                 48729 non-null  object \n",
      " 28  X13                 48729 non-null  object \n",
      " 29  X14                 48729 non-null  object \n",
      " 30  X15                 48729 non-null  object \n",
      " 31  X16                 48729 non-null  object \n",
      " 32  X17                 48729 non-null  object \n",
      " 33  X18                 48729 non-null  object \n",
      " 34  X19                 48729 non-null  object \n",
      " 35  X20                 48729 non-null  object \n",
      " 36  X21                 48729 non-null  object \n",
      " 37  X22                 48729 non-null  object \n",
      " 38  X23                 48729 non-null  object \n",
      " 39  X24                 48729 non-null  object \n",
      " 40  X25                 48729 non-null  object \n",
      " 41  change              48729 non-null  object \n",
      " 42  diabetesMed         48729 non-null  object \n",
      " 43  readmitted          48729 non-null  int64  \n",
      "dtypes: float64(6), int64(4), object(34)\n",
      "memory usage: 16.7+ MB\n"
     ]
    }
   ],
   "source": [
    "df1.info()"
   ]
  },
  {
   "cell_type": "markdown",
   "id": "046844cc",
   "metadata": {},
   "source": [
    "# Converting categorical to numerical"
   ]
  },
  {
   "cell_type": "code",
   "execution_count": 1153,
   "id": "1a616cfe",
   "metadata": {},
   "outputs": [],
   "source": [
    "cat_col=['race','gender','age','diag_1','diag_2','diag_3','diag_4','X1', 'X2',\n",
    "       'X3', 'X4', 'X5', 'X6', 'X7', 'X8', 'X9', 'X10', 'X11', 'X12', 'X13',\n",
    "       'X14', 'X15', 'X16', 'X17', 'X18', 'X19', 'X20', 'X21', 'X22', 'X23',\n",
    "       'X24', 'X25', 'change', 'diabetesMed']"
   ]
  },
  {
   "cell_type": "code",
   "execution_count": 1154,
   "id": "4553b233",
   "metadata": {},
   "outputs": [],
   "source": [
    "from sklearn.preprocessing import LabelEncoder\n",
    "le = LabelEncoder()\n",
    "\n",
    "for col in cat_col:\n",
    "    df1[col]= le.fit_transform(df1[col])"
   ]
  },
  {
   "cell_type": "code",
   "execution_count": 1155,
   "id": "75ecdd1a",
   "metadata": {
    "scrolled": true
   },
   "outputs": [
    {
     "data": {
      "text/html": [
       "<div>\n",
       "<style scoped>\n",
       "    .dataframe tbody tr th:only-of-type {\n",
       "        vertical-align: middle;\n",
       "    }\n",
       "\n",
       "    .dataframe tbody tr th {\n",
       "        vertical-align: top;\n",
       "    }\n",
       "\n",
       "    .dataframe thead th {\n",
       "        text-align: right;\n",
       "    }\n",
       "</style>\n",
       "<table border=\"1\" class=\"dataframe\">\n",
       "  <thead>\n",
       "    <tr style=\"text-align: right;\">\n",
       "      <th></th>\n",
       "      <th>race</th>\n",
       "      <th>gender</th>\n",
       "      <th>age</th>\n",
       "      <th>time_in_hospital</th>\n",
       "      <th>num_lab_procedures</th>\n",
       "      <th>num_procedures</th>\n",
       "      <th>num_medications</th>\n",
       "      <th>number_outpatient</th>\n",
       "      <th>number_emergency</th>\n",
       "      <th>number_inpatient</th>\n",
       "      <th>...</th>\n",
       "      <th>X19</th>\n",
       "      <th>X20</th>\n",
       "      <th>X21</th>\n",
       "      <th>X22</th>\n",
       "      <th>X23</th>\n",
       "      <th>X24</th>\n",
       "      <th>X25</th>\n",
       "      <th>change</th>\n",
       "      <th>diabetesMed</th>\n",
       "      <th>readmitted</th>\n",
       "    </tr>\n",
       "  </thead>\n",
       "  <tbody>\n",
       "    <tr>\n",
       "      <th>0</th>\n",
       "      <td>3</td>\n",
       "      <td>1</td>\n",
       "      <td>8</td>\n",
       "      <td>4.0</td>\n",
       "      <td>39.0</td>\n",
       "      <td>1.0</td>\n",
       "      <td>9.0</td>\n",
       "      <td>1</td>\n",
       "      <td>1</td>\n",
       "      <td>4</td>\n",
       "      <td>...</td>\n",
       "      <td>0</td>\n",
       "      <td>1</td>\n",
       "      <td>1</td>\n",
       "      <td>0</td>\n",
       "      <td>0</td>\n",
       "      <td>0</td>\n",
       "      <td>0</td>\n",
       "      <td>1</td>\n",
       "      <td>1</td>\n",
       "      <td>1</td>\n",
       "    </tr>\n",
       "    <tr>\n",
       "      <th>1</th>\n",
       "      <td>2</td>\n",
       "      <td>1</td>\n",
       "      <td>6</td>\n",
       "      <td>3.0</td>\n",
       "      <td>34.0</td>\n",
       "      <td>1.0</td>\n",
       "      <td>12.0</td>\n",
       "      <td>0</td>\n",
       "      <td>0</td>\n",
       "      <td>0</td>\n",
       "      <td>...</td>\n",
       "      <td>0</td>\n",
       "      <td>1</td>\n",
       "      <td>1</td>\n",
       "      <td>0</td>\n",
       "      <td>0</td>\n",
       "      <td>0</td>\n",
       "      <td>0</td>\n",
       "      <td>1</td>\n",
       "      <td>0</td>\n",
       "      <td>0</td>\n",
       "    </tr>\n",
       "    <tr>\n",
       "      <th>2</th>\n",
       "      <td>2</td>\n",
       "      <td>0</td>\n",
       "      <td>5</td>\n",
       "      <td>6.0</td>\n",
       "      <td>50.0</td>\n",
       "      <td>2.0</td>\n",
       "      <td>24.0</td>\n",
       "      <td>0</td>\n",
       "      <td>0</td>\n",
       "      <td>5</td>\n",
       "      <td>...</td>\n",
       "      <td>0</td>\n",
       "      <td>0</td>\n",
       "      <td>1</td>\n",
       "      <td>0</td>\n",
       "      <td>0</td>\n",
       "      <td>0</td>\n",
       "      <td>0</td>\n",
       "      <td>0</td>\n",
       "      <td>1</td>\n",
       "      <td>1</td>\n",
       "    </tr>\n",
       "    <tr>\n",
       "      <th>3</th>\n",
       "      <td>0</td>\n",
       "      <td>0</td>\n",
       "      <td>7</td>\n",
       "      <td>5.0</td>\n",
       "      <td>63.0</td>\n",
       "      <td>0.0</td>\n",
       "      <td>14.0</td>\n",
       "      <td>0</td>\n",
       "      <td>0</td>\n",
       "      <td>0</td>\n",
       "      <td>...</td>\n",
       "      <td>0</td>\n",
       "      <td>0</td>\n",
       "      <td>1</td>\n",
       "      <td>0</td>\n",
       "      <td>0</td>\n",
       "      <td>0</td>\n",
       "      <td>0</td>\n",
       "      <td>0</td>\n",
       "      <td>1</td>\n",
       "      <td>1</td>\n",
       "    </tr>\n",
       "    <tr>\n",
       "      <th>4</th>\n",
       "      <td>2</td>\n",
       "      <td>1</td>\n",
       "      <td>7</td>\n",
       "      <td>9.0</td>\n",
       "      <td>17.0</td>\n",
       "      <td>1.0</td>\n",
       "      <td>11.0</td>\n",
       "      <td>0</td>\n",
       "      <td>0</td>\n",
       "      <td>0</td>\n",
       "      <td>...</td>\n",
       "      <td>0</td>\n",
       "      <td>1</td>\n",
       "      <td>1</td>\n",
       "      <td>0</td>\n",
       "      <td>0</td>\n",
       "      <td>0</td>\n",
       "      <td>0</td>\n",
       "      <td>1</td>\n",
       "      <td>0</td>\n",
       "      <td>1</td>\n",
       "    </tr>\n",
       "  </tbody>\n",
       "</table>\n",
       "<p>5 rows × 44 columns</p>\n",
       "</div>"
      ],
      "text/plain": [
       "   race  gender  age  time_in_hospital  num_lab_procedures  num_procedures  \\\n",
       "0     3       1    8               4.0                39.0             1.0   \n",
       "1     2       1    6               3.0                34.0             1.0   \n",
       "2     2       0    5               6.0                50.0             2.0   \n",
       "3     0       0    7               5.0                63.0             0.0   \n",
       "4     2       1    7               9.0                17.0             1.0   \n",
       "\n",
       "   num_medications  number_outpatient  number_emergency  number_inpatient  \\\n",
       "0              9.0                  1                 1                 4   \n",
       "1             12.0                  0                 0                 0   \n",
       "2             24.0                  0                 0                 5   \n",
       "3             14.0                  0                 0                 0   \n",
       "4             11.0                  0                 0                 0   \n",
       "\n",
       "   ...  X19  X20  X21  X22  X23  X24  X25  change  diabetesMed  readmitted  \n",
       "0  ...    0    1    1    0    0    0    0       1            1           1  \n",
       "1  ...    0    1    1    0    0    0    0       1            0           0  \n",
       "2  ...    0    0    1    0    0    0    0       0            1           1  \n",
       "3  ...    0    0    1    0    0    0    0       0            1           1  \n",
       "4  ...    0    1    1    0    0    0    0       1            0           1  \n",
       "\n",
       "[5 rows x 44 columns]"
      ]
     },
     "execution_count": 1155,
     "metadata": {},
     "output_type": "execute_result"
    }
   ],
   "source": [
    "df1.head()"
   ]
  },
  {
   "cell_type": "code",
   "execution_count": 1156,
   "id": "b48057f1",
   "metadata": {},
   "outputs": [],
   "source": [
    "#df1.to_csv('cleaned_data_full.csv')"
   ]
  },
  {
   "cell_type": "markdown",
   "id": "7ebb2c79",
   "metadata": {},
   "source": [
    "# Creating ml model"
   ]
  },
  {
   "cell_type": "code",
   "execution_count": 1205,
   "id": "547d502e",
   "metadata": {},
   "outputs": [],
   "source": [
    "x=df1.drop(['readmitted'],axis=1)"
   ]
  },
  {
   "cell_type": "code",
   "execution_count": 1213,
   "id": "9c31584d",
   "metadata": {},
   "outputs": [
    {
     "data": {
      "text/plain": [
       "(48729, 43)"
      ]
     },
     "execution_count": 1213,
     "metadata": {},
     "output_type": "execute_result"
    }
   ],
   "source": [
    "x.shape"
   ]
  },
  {
   "cell_type": "code",
   "execution_count": 1207,
   "id": "eb5ef5ac",
   "metadata": {},
   "outputs": [],
   "source": [
    "y=df1['readmitted']"
   ]
  },
  {
   "cell_type": "code",
   "execution_count": 1260,
   "id": "40b16f59",
   "metadata": {},
   "outputs": [
    {
     "data": {
      "text/plain": [
       "(48729,)"
      ]
     },
     "execution_count": 1260,
     "metadata": {},
     "output_type": "execute_result"
    }
   ],
   "source": [
    "y.shape"
   ]
  },
  {
   "cell_type": "code",
   "execution_count": 1252,
   "id": "f0f798f5",
   "metadata": {},
   "outputs": [],
   "source": [
    "#fitting logistic regression\n",
    "from sklearn.linear_model import LogisticRegression\n",
    "logis=LogisticRegression(max_iter=3600,penalty='l2')"
   ]
  },
  {
   "cell_type": "code",
   "execution_count": 1253,
   "id": "7e485cc5",
   "metadata": {},
   "outputs": [
    {
     "data": {
      "text/plain": [
       "LogisticRegression(C=3, max_iter=3600)"
      ]
     },
     "execution_count": 1253,
     "metadata": {},
     "output_type": "execute_result"
    }
   ],
   "source": [
    "logis.fit(x,y)"
   ]
  },
  {
   "cell_type": "markdown",
   "id": "7c144c2f",
   "metadata": {},
   "source": [
    "# Testing Data:\n",
    "    We take our testing data after data preprocessing "
   ]
  },
  {
   "cell_type": "code",
   "execution_count": 1254,
   "id": "1e2bb535",
   "metadata": {},
   "outputs": [],
   "source": [
    "Test_file=pd.read_csv('test2.csv')"
   ]
  },
  {
   "cell_type": "code",
   "execution_count": 1255,
   "id": "dc2c4ee3",
   "metadata": {},
   "outputs": [],
   "source": [
    "#in x_test variable we take our training dataset\n",
    "x_test=Test_file.drop(['Unnamed: 0','encounter_id'],axis=1)"
   ]
  },
  {
   "cell_type": "code",
   "execution_count": 1256,
   "id": "7a4c19ef",
   "metadata": {},
   "outputs": [],
   "source": [
    "y_pred=logis.predict(x_test)"
   ]
  },
  {
   "cell_type": "code",
   "execution_count": 1257,
   "id": "31a8331e",
   "metadata": {
    "scrolled": true
   },
   "outputs": [
    {
     "data": {
      "text/plain": [
       "array([1, 0, 1, ..., 1, 0, 0], dtype=int64)"
      ]
     },
     "execution_count": 1257,
     "metadata": {},
     "output_type": "execute_result"
    }
   ],
   "source": [
    "y_pred"
   ]
  },
  {
   "cell_type": "code",
   "execution_count": 1258,
   "id": "1f381029",
   "metadata": {},
   "outputs": [],
   "source": [
    "enconter=Test_file['encounter_id']"
   ]
  },
  {
   "cell_type": "markdown",
   "id": "6e380768",
   "metadata": {},
   "source": [
    "# creating csv file for predicted"
   ]
  },
  {
   "cell_type": "code",
   "execution_count": 1259,
   "id": "09d85aab",
   "metadata": {},
   "outputs": [],
   "source": [
    "df4=pd.DataFrame({'encounter_id':enconter,'prediction':y_pred})"
   ]
  },
  {
   "cell_type": "code",
   "execution_count": 1251,
   "id": "3d35f823",
   "metadata": {},
   "outputs": [],
   "source": [
    "df4.to_csv('4248_Ajith5.csv')"
   ]
  },
  {
   "cell_type": "code",
   "execution_count": null,
   "id": "3ab2f97a",
   "metadata": {},
   "outputs": [],
   "source": []
  }
 ],
 "metadata": {
  "kernelspec": {
   "display_name": "Python 3 (ipykernel)",
   "language": "python",
   "name": "python3"
  },
  "language_info": {
   "codemirror_mode": {
    "name": "ipython",
    "version": 3
   },
   "file_extension": ".py",
   "mimetype": "text/x-python",
   "name": "python",
   "nbconvert_exporter": "python",
   "pygments_lexer": "ipython3",
   "version": "3.9.12"
  }
 },
 "nbformat": 4,
 "nbformat_minor": 5
}
